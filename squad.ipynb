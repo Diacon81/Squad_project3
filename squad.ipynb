{
 "cells": [
  {
   "cell_type": "markdown",
   "metadata": {},
   "source": [
    "# SQUAD PROJECT: DATABASES"
   ]
  },
  {
   "cell_type": "markdown",
   "metadata": {},
   "source": [
    "In this project we are going to work with both SQL and NoSQL databases. For this purpose we are going to use PostgreSQL and MongoDB."
   ]
  },
  {
   "cell_type": "markdown",
   "metadata": {},
   "source": [
    "## 1. SQL"
   ]
  },
  {
   "cell_type": "markdown",
   "metadata": {},
   "source": [
    "Structured Query Language (SQL) is a standardized programming language that is used to manage relational databases and perform various operations on the data in them."
   ]
  },
  {
   "cell_type": "markdown",
   "metadata": {},
   "source": [
    "### Creating Tables"
   ]
  },
  {
   "cell_type": "markdown",
   "metadata": {},
   "source": [
    "First of all, we are going to create the tables as defined below. We'll need to define primary keys for each table and establish relationships between the tables with foreign keys. We will also define composite keys.\n",
    "\n",
    "- Libro (ClaveLibro, Título, Idioma, Categoría, ClaveEditorial) \n",
    "- Tema (ClaveTema, Nombre) \n",
    "- Autor (ClaveAutor, Nombre, Fecha_nac) \n",
    "- Editorial (ClaveEditorial, Nombre, Dirección, Teléfono) \n",
    "- Socio (ClaveSocio, Nombre, Dirección, Teléfono, Fecha_nac) \n",
    "- Préstamo (ClaveSocio, ClaveLibro, Fecha_préstamo,  Fecha_devolución, Notas) \n",
    "- Trata_sobre (ClaveLibro, ClaveTema)\n",
    "- Escrito_por (ClaveLibro, ClaveAutor)\n"
   ]
  },
  {
   "cell_type": "markdown",
   "metadata": {},
   "source": [
    "The next image shows the relationships between the different tables."
   ]
  },
  {
   "cell_type": "markdown",
   "metadata": {},
   "source": [
    "![SQL](images/sql.png)"
   ]
  },
  {
   "cell_type": "markdown",
   "metadata": {},
   "source": [
    "#### DDL (Data Definition Language):"
   ]
  },
  {
   "cell_type": "markdown",
   "metadata": {},
   "source": [
    "CREATE TABLE Editorial (\n",
    "\n",
    "    ClaveEditorial SERIAL PRIMARY KEY,\n",
    "    Nombre VARCHAR(100) NOT NULL,\n",
    "    Dirección VARCHAR(255),\n",
    "    Teléfono VARCHAR(15)\n",
    "    \n",
    ");"
   ]
  },
  {
   "cell_type": "markdown",
   "metadata": {},
   "source": [
    "CREATE TABLE Libro (\n",
    "\n",
    "    ClaveLibro SERIAL PRIMARY KEY,\n",
    "    Título VARCHAR(255) NOT NULL,\n",
    "    Idioma VARCHAR(50),\n",
    "    Edición VARCHAR(50),\n",
    "    ClaveEditorial INT,\n",
    "    FOREIGN KEY (ClaveEditorial) REFERENCES Editorial(ClaveEditorial)\n",
    "    \n",
    ");"
   ]
  },
  {
   "cell_type": "markdown",
   "metadata": {},
   "source": [
    "CREATE TABLE Tema (\n",
    "\n",
    "    ClaveTema SERIAL PRIMARY KEY,\n",
    "    Nombre VARCHAR(255) NOT NULL\n",
    "    \n",
    ");"
   ]
  },
  {
   "cell_type": "markdown",
   "metadata": {},
   "source": [
    "CREATE TABLE Autor ( \n",
    "\n",
    "    ClaveAutor SERIAL PRIMARY KEY,\n",
    "    Nombre VARCHAR(100) NOT NULL,\n",
    "    Fecha_nac DATE\n",
    "    \n",
    ");"
   ]
  },
  {
   "cell_type": "markdown",
   "metadata": {},
   "source": [
    "CREATE TABLE Socio(\n",
    "\n",
    "    ClaveSocio SERIAL PRIMARY KEY, \n",
    "    Nombre VARCHAR(100) NOT NULL,\n",
    "    Dirección VARCHAR(255),\n",
    "    Teléfono VARCHAR(15) CHECK (Teléfono LIKE '91%'),\n",
    "    Fecha_nac DATE\n",
    "    \n",
    ");"
   ]
  },
  {
   "cell_type": "markdown",
   "metadata": {},
   "source": [
    "CREATE TABLE Préstamo (\n",
    "\n",
    "    ClaveSocio INT,\n",
    "    ClaveLibro INT,\n",
    "    Fecha_préstamo DATE,\n",
    "    Fecha_devolución DATE,\n",
    "    Notas VARCHAR(50) CHECK (Notas IN ('Bien', 'Hojas rotas', 'Manchado')),\n",
    "    PRIMARY KEY (ClaveSocio, ClaveLibro),\n",
    "    FOREIGN KEY (ClaveSocio) REFERENCES Socio (ClaveSocio),\n",
    "    FOREIGN KEY (ClaveLibro) REFERENCES Libro (ClaveLibro),\n",
    "    CHECK (Fecha_préstamo < Fecha_devolución)\n",
    "    \n",
    ");"
   ]
  },
  {
   "cell_type": "markdown",
   "metadata": {},
   "source": [
    "CREATE TABLE Trata_sobre (\n",
    "\n",
    "    ClaveLibro INT,\n",
    "    ClaveTema INT,\n",
    "    PRIMARY KEY (ClaveLibro, ClaveTema),\n",
    "    FOREIGN KEY (ClaveLibro) REFERENCES Libro (ClaveLibro),\n",
    "    FOREIGN KEY (ClaveTema) REFERENCES Tema (ClaveTema)\n",
    "    \n",
    ");"
   ]
  },
  {
   "cell_type": "markdown",
   "metadata": {},
   "source": [
    "CREATE TABLE Escrito_por (\n",
    "\n",
    "    ClaveLibro INT,\n",
    "    ClaveAutor INT,\n",
    "    PRIMARY KEY (ClaveLibro, ClaveAutor),\n",
    "    FOREIGN KEY (ClaveLibro) REFERENCES Libro (ClaveLibro),\n",
    "    FOREIGN KEY (ClaveAutor) REFERENCES Autor (ClaveAutor)\n",
    "    \n",
    ");"
   ]
  },
  {
   "cell_type": "markdown",
   "metadata": {},
   "source": [
    "#### Implementing restrictions and constraints."
   ]
  },
  {
   "cell_type": "markdown",
   "metadata": {},
   "source": [
    "We have implemented some restrictions in the tables in order to:\n",
    "1. Ensure that as many primary keys as possible are set to auto-increment\n",
    "2. In the Loan Relationship, the loan date must be less than the return date\n",
    "3. In the same relation (Loan) the note field can only have three possible values: fine, torn sheet, stained\n",
    "4. In the Partner Relationship the telephone number has to start with 91\n",
    "5. In the Book Relationship, the Title field is an alternative key. Category cannot take values (Fourth and Fifth)\n",
    "6. We have to maintain referential integrity in all Relations. Specifically in the Topic Relationship (key_subject_related)\n",
    "7. The foreign key indicated must have the name of the Constraint “Clave_fk_tema”; we cannot leave the one given by default \n"
   ]
  },
  {
   "cell_type": "markdown",
   "metadata": {},
   "source": [
    "### Insert Elements Into Tables"
   ]
  },
  {
   "cell_type": "markdown",
   "metadata": {},
   "source": [
    "Once all table are created, we are going to populate the tables with data. We have to ensure that all data is accurately and correctly entered. This step is crucial for the subsequent operations and queries we will perform on your database."
   ]
  },
  {
   "cell_type": "markdown",
   "metadata": {},
   "source": [
    "#### DML (Data Manipulation Language)"
   ]
  },
  {
   "cell_type": "markdown",
   "metadata": {},
   "source": [
    "INSERT INTO Editorial (Nombre, Dirección, Teléfono)\n",
    "VALUES \n",
    "\n",
    "    ('Editorial Planeta', 'Carrer de Mallorca, 2, 08003 Barcelona, España', '913 18 03 00'),\n",
    "    ('Gigamesh', 'Carrer de Bailèn, 8, 08010 Barcelona, España', '913 17 02 78'),\n",
    "    ('Norma Editorial', 'Passeig de Sant Joan, 9, 08010 Barcelona, España', '912 65 70 00'),\n",
    "    ('Penguin Random House', 'Gran Vía, 12, 28013 Madrid, España', '915 47 88 00'),\n",
    "    ('Nova', 'Calle Alcalá, 79, 28009 Madrid, España', '915 38 72 00');"
   ]
  },
  {
   "cell_type": "markdown",
   "metadata": {},
   "source": [
    "![SQL](images/Editorial.png)"
   ]
  },
  {
   "cell_type": "markdown",
   "metadata": {},
   "source": [
    "INSERT INTO Libro (Título, Idioma, Edición, ClaveEditorial)\n",
    "VALUES \n",
    "  \n",
    "    ('Cien años de soledad','Español','Primera',1),\n",
    "    ('El nombre del viento','Inglés','Segunda',4),\n",
    "    ('Crónica de una muerte anunciada','Español','Tercera',4),\n",
    "    ('La sombra del viento','Español','Tercera',1),\n",
    "    ('Los juegos del hambre','Inglés','Primera',3),\n",
    "    ('El laberinto de los espíritus','Español','Segunda',2),\n",
    "    ('La ciudad de las bestias','Español','Tercera',1),\n",
    "    ('Rayuela','Español','Segunda',5);"
   ]
  },
  {
   "cell_type": "markdown",
   "metadata": {},
   "source": [
    "![SQL](images/Libro.png)"
   ]
  },
  {
   "cell_type": "markdown",
   "metadata": {},
   "source": [
    "INSERT INTO Autor (Nombre, Fecha_nac)\n",
    "VALUES \n",
    "\n",
    "    ('Gabriel García Márquez','1927-03-06'),\n",
    "    ('Patrick Rothfuss','1973-06-06'),\n",
    "    ('Carlos Ruiz Zafón','1964-09-25'),\n",
    "    ('Suzanne Collins','1962-08-10'),\n",
    "    ('Isabel Allende','1942-08-02'),\n",
    "    ('Julio Cortázar','1914-08-26');"
   ]
  },
  {
   "cell_type": "markdown",
   "metadata": {},
   "source": [
    "![SQL](images/Autor.png)"
   ]
  },
  {
   "cell_type": "markdown",
   "metadata": {},
   "source": [
    "INSERT INTO Tema (Nombre)\n",
    "VALUES\n",
    "\n",
    "    ('Realismo mágico'),\n",
    "    ('Fantasía épica'),\n",
    "    ('Novela corta'),\n",
    "    ('Ficción histórica'),\n",
    "    ('Ciencia ficción distópica'),\n",
    "    ('Ficción misterio'),\n",
    "    ('Aventura juvenil'),\n",
    "    ('Novela experimental');"
   ]
  },
  {
   "cell_type": "markdown",
   "metadata": {},
   "source": [
    "![SQL](images/Tema.png)"
   ]
  },
  {
   "cell_type": "markdown",
   "metadata": {},
   "source": [
    "INSERT INTO Socio (Nombre, Dirección, Teléfono, Fecha_nac)\n",
    "VALUES \n",
    "\n",
    "    ('Pepe', 'C/Verdura', '913559799', '1956-10-10'), \n",
    "    ('Sara', 'C/Coliflor', '912992628', '1976-08-06'),\n",
    "    ('Ramón', 'C/Espárrago', '912345679', '1995-02-09'),\n",
    "    ('Ana', 'C/Zanahoria', '911234567', '1988-04-15'),\n",
    "    ('Juan', 'C/Pepino', '910987654', '1970-11-20'),\n",
    "    ('Laura', 'C/Lechuga', '913333444', '1992-07-03'),\n",
    "    ('Miguel', 'C/Berenjena', '912345678', '1985-09-12'),\n",
    "    ('María', 'C/Pimiento', '911111222', '2000-01-25'),\n",
    "    ('Pedro', 'C/Calabacín', '910123456', '1982-06-18'),\n",
    "    ('Isabel', 'C/Apio', '914567890', '1998-03-30');"
   ]
  },
  {
   "cell_type": "markdown",
   "metadata": {},
   "source": [
    "![SQL](images/Socio.png)"
   ]
  },
  {
   "cell_type": "markdown",
   "metadata": {},
   "source": [
    "INSERT INTO Préstamo (ClaveSocio, ClaveLibro, Fecha_Préstamo, Fecha_Devolución, Notas)\n",
    "VALUES\n",
    "\n",
    "    (1, 5,'2024-01-10','2024-02-13','Hojas rotas'), \n",
    "    (2, 6, '2024-01-10', null, 'Bien'),\n",
    "    (2, 3, '2024-03-05', '2024-03-20', 'Manchado'),\n",
    "    (3, 2, '2024-04-15', '2024-05-10', 'Bien'),\n",
    "    (1, 1, '2024-05-20', '2024-06-15', 'Hojas rotas'),\n",
    "    (2, 4, '2024-06-25', '2024-07-20', 'Bien'),\n",
    "    (3, 6, '2024-07-30', null, 'Manchado'),\n",
    "    (1, 7, '2024-08-05', '2024-08-20', 'Bien'),\n",
    "    (2, 8, '2024-09-10', '2024-09-25', 'Bien'),\n",
    "    (3, 3, '2024-10-15', null, 'Hojas rotas'),\n",
    "    (2, 7, '2024-11-20', '2024-12-15', 'Bien');"
   ]
  },
  {
   "cell_type": "markdown",
   "metadata": {},
   "source": [
    "![SQL](images/Prestamo.png)"
   ]
  },
  {
   "cell_type": "markdown",
   "metadata": {},
   "source": [
    "INSERT INTO Trata_sobre (ClaveLibro, ClaveTema)\n",
    "VALUES\n",
    "\n",
    "    (1, 1),\n",
    "    (2, 2),\n",
    "    (3, 3),\n",
    "    (4, 4),\n",
    "    (5, 5),\n",
    "    (6, 6),\n",
    "    (7, 7),\n",
    "    (8, 8);"
   ]
  },
  {
   "cell_type": "markdown",
   "metadata": {},
   "source": [
    "![SQL](images/Trata_sobre.png)"
   ]
  },
  {
   "cell_type": "markdown",
   "metadata": {},
   "source": [
    "INSERT INTO Escrito_por (ClaveLibro, ClaveAutor)\n",
    "VALUES \n",
    "\n",
    "    (1, 1),\n",
    "    (2, 2),\n",
    "    (3, 1),\n",
    "    (4, 3),\n",
    "    (5, 4),\n",
    "    (6, 3),\n",
    "    (7, 5),\n",
    "    (8, 6);"
   ]
  },
  {
   "cell_type": "markdown",
   "metadata": {},
   "source": [
    "![SQL](images/Escrito_por.png)"
   ]
  },
  {
   "cell_type": "markdown",
   "metadata": {},
   "source": [
    "### Performing Queries"
   ]
  },
  {
   "cell_type": "markdown",
   "metadata": {},
   "source": [
    "1. Display Topic Name, Book Edition, and Position of the First 'e' in the Topic Name. Requirements:\n",
    "\n",
    "The book edition must contain exactly 2 'e'.The edition of the book we are interested in having 2 \"e\"\n",
    "The length of the theme name must be greater than or equal to 7 characters\n"
   ]
  },
  {
   "cell_type": "markdown",
   "metadata": {},
   "source": [
    "![SQL](images/query_1.png)"
   ]
  },
  {
   "cell_type": "markdown",
   "metadata": {},
   "source": [
    "2. Name of members who have been loaned books that have not yet been returned (maybe some have returned them but others have not (those are the ones we're interested in)"
   ]
  },
  {
   "cell_type": "markdown",
   "metadata": {},
   "source": [
    "![SQL](images/query_2.png)"
   ]
  },
  {
   "cell_type": "markdown",
   "metadata": {},
   "source": [
    "3. Name of the author who has written 2 or more books on the topic \"Ficción\""
   ]
  },
  {
   "cell_type": "markdown",
   "metadata": {},
   "source": [
    "![SQL](images/query_3.png)"
   ]
  },
  {
   "cell_type": "markdown",
   "metadata": {},
   "source": [
    "4. Show the title of the books and the name of the publisher, whether or not we know if they have been published by a publisher or not, but of the books whose loan date is between the 1st and 5th of each month (we are not interested at all neither the month nor the year; only the days)."
   ]
  },
  {
   "cell_type": "markdown",
   "metadata": {},
   "source": [
    "![SQL](images/query_4.png)"
   ]
  },
  {
   "cell_type": "markdown",
   "metadata": {},
   "source": [
    "5. Name of the oldest member to whom more than 1 book has been lent"
   ]
  },
  {
   "cell_type": "markdown",
   "metadata": {},
   "source": [
    "![SQL](images/query_5.png)"
   ]
  },
  {
   "cell_type": "markdown",
   "metadata": {},
   "source": [
    "## 2. NoSQL"
   ]
  },
  {
   "cell_type": "markdown",
   "metadata": {},
   "source": [
    "NoSQL, also referred to as “not only SQL”, is an approach to database design that enables the storage and querying of data outside the traditional structures found in relational databases."
   ]
  },
  {
   "cell_type": "markdown",
   "metadata": {},
   "source": [
    "### Creating DB and collections"
   ]
  },
  {
   "cell_type": "markdown",
   "metadata": {},
   "source": [
    "First of all we filtered columns from an xml file and created different csv files.\n",
    "\n",
    "Once we had our separated data we imported this csv files with MongoDB Compass to create our collections."
   ]
  },
  {
   "cell_type": "markdown",
   "metadata": {},
   "source": [
    "![SQL](images/collections.png)"
   ]
  },
  {
   "cell_type": "markdown",
   "metadata": {},
   "source": [
    "Customer collections structure"
   ]
  },
  {
   "cell_type": "markdown",
   "metadata": {},
   "source": [
    "![SQL](images/customers.png)"
   ]
  },
  {
   "cell_type": "markdown",
   "metadata": {},
   "source": [
    "Order collections structure"
   ]
  },
  {
   "cell_type": "markdown",
   "metadata": {},
   "source": [
    "![SQL](images/orders.png)"
   ]
  },
  {
   "cell_type": "markdown",
   "metadata": {},
   "source": [
    "Order measures collection structure"
   ]
  },
  {
   "cell_type": "markdown",
   "metadata": {},
   "source": [
    "![SQL](images/order_measures.png)"
   ]
  },
  {
   "cell_type": "markdown",
   "metadata": {},
   "source": [
    "Product collection structure"
   ]
  },
  {
   "cell_type": "markdown",
   "metadata": {},
   "source": [
    "![SQL](images/product.png)"
   ]
  },
  {
   "cell_type": "markdown",
   "metadata": {},
   "source": [
    "### Data Analysis"
   ]
  },
  {
   "cell_type": "markdown",
   "metadata": {},
   "source": [
    "1. Furniture Sales in Kentucky: Determine the total sales amount for products in the 'Furniture' category for the state of Kentucky."
   ]
  },
  {
   "cell_type": "markdown",
   "metadata": {},
   "source": [
    "![SQL](images/kentucky_sales.png)"
   ]
  },
  {
   "cell_type": "markdown",
   "metadata": {},
   "source": [
    "2. Orders with Negative Profit: Identify all orders that resulted in negative profit."
   ]
  },
  {
   "cell_type": "markdown",
   "metadata": {},
   "source": [
    "2.1 First of all, we changed 'Profit' field from string to a double, using the provided MongoDB update command."
   ]
  },
  {
   "cell_type": "markdown",
   "metadata": {},
   "source": [
    "![SQL](images/string_to_double.png)"
   ]
  },
  {
   "cell_type": "markdown",
   "metadata": {},
   "source": [
    "2.2 After converting \"Profit\" to double, we are able to check values lower than zero."
   ]
  },
  {
   "cell_type": "markdown",
   "metadata": {},
   "source": [
    "![SQL](images/negative_profit.png)"
   ]
  },
  {
   "cell_type": "markdown",
   "metadata": {},
   "source": [
    "3. Single Product Customers: Find customers who have purchased only one product."
   ]
  },
  {
   "cell_type": "markdown",
   "metadata": {},
   "source": [
    "![SQL](images/unique_cust.png)"
   ]
  },
  {
   "cell_type": "markdown",
   "metadata": {},
   "source": [
    "4. Bookcases and Art Buyers: Locate customers who have purchased products in both 'Bookcases' and 'Art' subcategories."
   ]
  },
  {
   "cell_type": "markdown",
   "metadata": {},
   "source": [
    "![SQL](images/art_bookcases_customers.png)"
   ]
  },
  {
   "cell_type": "markdown",
   "metadata": {},
   "source": [
    "## Neo4j"
   ]
  },
  {
   "cell_type": "markdown",
   "metadata": {},
   "source": [
    "We start to create a new whole project"
   ]
  },
  {
   "cell_type": "markdown",
   "metadata": {},
   "source": [
    "![Untitled](./Images/Create_new_project.png)"
   ]
  },
  {
   "cell_type": "markdown",
   "metadata": {},
   "source": [
    "Now we have to add a new DBMS"
   ]
  },
  {
   "cell_type": "markdown",
   "metadata": {},
   "source": [
    "![Untitled](./Images/add_new_DSMS.png)"
   ]
  },
  {
   "cell_type": "markdown",
   "metadata": {},
   "source": [
    "Its time to set up our DBMS chosing the name and a password"
   ]
  },
  {
   "cell_type": "markdown",
   "metadata": {},
   "source": [
    "![Untitled](./Images/Config_new_DSMS.png)"
   ]
  },
  {
   "cell_type": "markdown",
   "metadata": {},
   "source": [
    "In this step we need to find our files path"
   ]
  },
  {
   "cell_type": "markdown",
   "metadata": {},
   "source": [
    "![Untitled](./Images/Open_folder.png)"
   ]
  },
  {
   "cell_type": "markdown",
   "metadata": {},
   "source": [
    "We used this script in order tu create our nodes"
   ]
  },
  {
   "cell_type": "markdown",
   "metadata": {},
   "source": [
    "LOAD CSV WITH HEADERS FROM 'file:///Customers.csv' AS row FIELDTERMINATOR \";\" \n",
    "CREATE (:Customer {Customer_ID: row.Customer_ID, Customer_Name: row.Customer_Name})\n",
    "\n",
    "CREATE ()\n",
    "WITH 1 AS dummy\n",
    "LOAD CSV WITH HEADERS FROM 'file:///Product.csv' AS product_row FIELDTERMINATOR \";\" \n",
    "CREATE (:Product {Product_ID: product_row.Product_ID, Category: product_row.Category, `Sub-Category`: product_row.`Sub-Category`, Product_Name: product_row.Product_Name})\n",
    "\n",
    "\n",
    "CREATE ()\n",
    "WITH 1 AS dummy2\n",
    "LOAD CSV WITH HEADERS FROM 'file:///Geo_Date.csv' AS geo_row FIELDTERMINATOR \";\" \n",
    "CREATE (:Geo_Date {Order_ID: geo_row.Order_ID, Order_Date: geo_row.Order_Date, Ship_Date: geo_row.Ship_Date, Country: geo_row.Country, City: geo_row.City, State: geo_row.State, Postal_Code: geo_row.Postal_Code, Region: geo_row.Region})"
   ]
  },
  {
   "cell_type": "markdown",
   "metadata": {},
   "source": [
    "This is our recently created node's look"
   ]
  },
  {
   "cell_type": "markdown",
   "metadata": {},
   "source": [
    "![Untitled](./Images/Graphs_created.png)"
   ]
  },
  {
   "cell_type": "markdown",
   "metadata": {},
   "source": [
    "![Untitled](./Images/code_error.png)"
   ]
  },
  {
   "cell_type": "markdown",
   "metadata": {},
   "source": [
    "Finally, a brief discussion about the advantages and disadvantages of using different databases for the given dataset, focusing on how they impact the handling, querying, and management of data.\n",
    "\n",
    "- Relational Databases: Best suited for structured data with well-defined relationships and complex queries.\n",
    "\n",
    "- NoSQL Databases: Provide flexibility for evolving data structures and scale horizontally but may sacrifice strict consistency.\n",
    "\n",
    "- Columnar Store Databases: Optimized for analytical queries on large datasets, with scalability and compression benefits.\n",
    "\n",
    "- Key-Value Stores: Simple and efficient for specific use cases, such as caching, with excellent performance and scalability.\n",
    "\n",
    "- Graph Databases: Ideal for scenarios where relationships are a primary concern, offering efficient traversal of complex relationships."
   ]
  },
  {
   "cell_type": "markdown",
   "metadata": {},
   "source": []
  }
 ],
 "metadata": {
  "kernelspec": {
   "display_name": "Python 3 (ipykernel)",
   "language": "python",
   "name": "python3"
  },
  "language_info": {
   "codemirror_mode": {
    "name": "ipython",
    "version": 3
   },
   "file_extension": ".py",
   "mimetype": "text/x-python",
   "name": "python",
   "nbconvert_exporter": "python",
   "pygments_lexer": "ipython3",
   "version": "3.11.5"
  }
 },
 "nbformat": 4,
 "nbformat_minor": 2
}
